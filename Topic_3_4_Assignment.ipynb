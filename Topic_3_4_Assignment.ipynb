{
 "cells": [
  {
   "cell_type": "markdown",
   "metadata": {
    "id": "f6LjKU50-tD8"
   },
   "source": [
    "##Topic 3 - Python Structure & Data Type Assignment\n"
   ]
  },
  {
   "cell_type": "markdown",
   "metadata": {
    "id": "MPuR878HZEbx"
   },
   "source": [
    "# Data Type Declaration"
   ]
  },
  {
   "cell_type": "markdown",
   "metadata": {
    "id": "GyS5I54D-3K9"
   },
   "source": [
    "1. > Create an empty variable (Points : 5)"
   ]
  },
  {
   "cell_type": "code",
   "execution_count": 45,
   "metadata": {
    "id": "jehesBY-_aKL"
   },
   "outputs": [
    {
     "name": "stdout",
     "output_type": "stream",
     "text": [
      "None\n"
     ]
    }
   ],
   "source": [
    "#Code goes here\n",
    "var = None\n",
    "print(var)"
   ]
  },
  {
   "cell_type": "markdown",
   "metadata": {
    "id": "6zCz3qZ8_bu2"
   },
   "source": [
    "2. > Create a variable containing your name (Points : 5)"
   ]
  },
  {
   "cell_type": "code",
   "execution_count": 46,
   "metadata": {
    "id": "1wT8jnI6_f-U"
   },
   "outputs": [
    {
     "name": "stdout",
     "output_type": "stream",
     "text": [
      "My name : Shintia Yulita Sari\n"
     ]
    }
   ],
   "source": [
    "#Code goes here\n",
    "myname = \"Shintia Yulita Sari\"\n",
    "print('My name :',myname)"
   ]
  },
  {
   "cell_type": "markdown",
   "metadata": {
    "id": "ApatE8m__2Ud"
   },
   "source": [
    "3. > Create a list of 5 items you can find in the classroom (Points : 5)"
   ]
  },
  {
   "cell_type": "code",
   "execution_count": 47,
   "metadata": {
    "id": "-Q0Ynqx1_6hF"
   },
   "outputs": [
    {
     "name": "stdout",
     "output_type": "stream",
     "text": [
      "['whiteboard', 'marker', 'air conditioniner', 'computer', 'LCD projector']\n"
     ]
    }
   ],
   "source": [
    "#Code goes here\n",
    "classroom = ['whiteboard', 'marker', 'air conditioniner','computer','LCD projector']\n",
    "print(classroom)"
   ]
  },
  {
   "cell_type": "markdown",
   "metadata": {
    "id": "6FwMmy_9AS5N"
   },
   "source": [
    "4. > Create a dictionary containing 2 keys and value (Points : 5)"
   ]
  },
  {
   "cell_type": "code",
   "execution_count": 48,
   "metadata": {
    "id": "xLc2AlhtASOm"
   },
   "outputs": [],
   "source": [
    "#Code goes here\n",
    "warmindo = {\n",
    "    \"menu\" : ['nasgor','magelangan','bakmi','nasi ayam','nasi telor'],\n",
    "    \"harga\" : [18000,18000,17500,16000,15500]\n",
    "}"
   ]
  },
  {
   "cell_type": "markdown",
   "metadata": {
    "id": "6AqPfAS7a1Oi"
   },
   "source": [
    "# Basic Data Operation"
   ]
  },
  {
   "cell_type": "markdown",
   "metadata": {
    "id": "-ZZF1cXlbqkJ"
   },
   "source": [
    "You sold 20 pieces of electronics at the price of 12000. The customer gets a total discount of 10%.\n",
    "\n",
    "Below are those variables:\n",
    "\n",
    "1.   price=12000\n",
    "2.   quantity_sold=20\n",
    "3.   discount=10%\n",
    "\n",
    "\n",
    "Using Python code, write the code the find the total money that the customer to pay. (Points : 15)"
   ]
  },
  {
   "cell_type": "code",
   "execution_count": 49,
   "metadata": {
    "id": "90T0A2HvbcCK"
   },
   "outputs": [
    {
     "name": "stdout",
     "output_type": "stream",
     "text": [
      "The total money that the customer to pay: 216000.0\n"
     ]
    }
   ],
   "source": [
    "#Code goes here\n",
    "price = 12000\n",
    "quantity_sold = 20\n",
    "discount = 0.1\n",
    "\n",
    "total = price*quantity_sold*(1-discount)\n",
    "print('The total money that the customer to pay:',total)"
   ]
  },
  {
   "cell_type": "markdown",
   "metadata": {
    "id": "G-HHsg4la6mJ"
   },
   "source": [
    "# List Data Operation"
   ]
  },
  {
   "cell_type": "markdown",
   "metadata": {
    "id": "NdoSjVZ4Zbqg"
   },
   "source": [
    "5. > Follow the instructions in the code blocks\n",
    "\n",
    "\n",
    "\n"
   ]
  },
  {
   "cell_type": "code",
   "execution_count": 50,
   "metadata": {
    "id": "xsFxlZGLaQ7y"
   },
   "outputs": [
    {
     "name": "stdout",
     "output_type": "stream",
     "text": [
      "7\n",
      "['Indonesia', 'Yamen', 'Malaysia', 'Marocco', 'New Zealand', 'Singapore', 'United Arab Emirates']\n"
     ]
    }
   ],
   "source": [
    "# Create list of countries in the world (total 7 countries) (Points : 5)\n",
    "#Code goes here\n",
    "\n",
    "countries=['Indonesia','Yamen','Malaysia','Marocco','New Zealand','Singapore','United Arab Emirates']\n",
    "print(len(countries))\n",
    "print(countries)"
   ]
  },
  {
   "cell_type": "code",
   "execution_count": 51,
   "metadata": {
    "id": "6Se125DabJ6R"
   },
   "outputs": [
    {
     "data": {
      "text/plain": [
       "['Indonesia', 'Yamen', 'Malaysia', 'Marocco']"
      ]
     },
     "execution_count": 51,
     "metadata": {},
     "output_type": "execute_result"
    }
   ],
   "source": [
    "# Get 4 countries from the first index of the list (Points : 5)\n",
    "#Code goes here\n",
    "\n",
    "countries[:4]"
   ]
  },
  {
   "cell_type": "code",
   "execution_count": 52,
   "metadata": {
    "id": "FSU5QfExbKAh"
   },
   "outputs": [
    {
     "name": "stdout",
     "output_type": "stream",
     "text": [
      "['Indonesia', 'Yamen', 'Malaysia', 'Marocco', 'New Zealand', 'Singapore', 'United Arab Emirates', 'Turkey']\n"
     ]
    }
   ],
   "source": [
    "# Append new country to the list (Points : 5)\n",
    "#Code goes here\n",
    "\n",
    "countries.append('Turkey')\n",
    "print(countries)"
   ]
  },
  {
   "cell_type": "code",
   "execution_count": 53,
   "metadata": {
    "id": "DlvXbKlnbKGR"
   },
   "outputs": [
    {
     "data": {
      "text/plain": [
       "'Marocco'"
      ]
     },
     "execution_count": 53,
     "metadata": {},
     "output_type": "execute_result"
    }
   ],
   "source": [
    "# Drop one country from the list (Points : 5)\n",
    "#Code goes here\n",
    "\n",
    "countries[3]"
   ]
  },
  {
   "cell_type": "code",
   "execution_count": 54,
   "metadata": {
    "id": "F1NJ6JCQbKJ7"
   },
   "outputs": [
    {
     "data": {
      "text/plain": [
       "'Turkey'"
      ]
     },
     "execution_count": 54,
     "metadata": {},
     "output_type": "execute_result"
    }
   ],
   "source": [
    "# Get country in the last index (Points : 5)\n",
    "#Code goes here\n",
    "\n",
    "countries[-1]"
   ]
  },
  {
   "cell_type": "markdown",
   "metadata": {
    "id": "Kfkq-SmIdJR6"
   },
   "source": [
    "# Dictionary Data Operation"
   ]
  },
  {
   "cell_type": "markdown",
   "metadata": {
    "id": "WyJ8CJzdeMiS"
   },
   "source": [
    "6. >  Follow the instructions below\n",
    "\n",
    "\n",
    "\n"
   ]
  },
  {
   "cell_type": "code",
   "execution_count": 55,
   "metadata": {
    "id": "fVHYIKLwdMfq"
   },
   "outputs": [],
   "source": [
    "# Given the dictionary below\n",
    "\n",
    "customer={\n",
    "    \"name\":['Dio','Eka','Wayu','Riki'],\n",
    "    \"age\":[20,19,24,39],\n",
    "    \"gender\":[1,0,0,1],\n",
    "    \"membership\":['Platinum','Gold','Silver','Silver']\n",
    "}"
   ]
  },
  {
   "cell_type": "code",
   "execution_count": 31,
   "metadata": {
    "id": "LpRVtz4_eJK5"
   },
   "outputs": [
    {
     "data": {
      "text/plain": [
       "dict_keys(['name', 'age', 'gender', 'membership'])"
      ]
     },
     "execution_count": 31,
     "metadata": {},
     "output_type": "execute_result"
    }
   ],
   "source": [
    "# Print all keys in customer (Points : 5)\n",
    "#Code goes here\n",
    "\n",
    "customer.keys()"
   ]
  },
  {
   "cell_type": "code",
   "execution_count": 56,
   "metadata": {
    "id": "QiEMM94FeYrz"
   },
   "outputs": [
    {
     "data": {
      "text/plain": [
       "['Dio', 'Eka', 'Wayu', 'Riki']"
      ]
     },
     "execution_count": 56,
     "metadata": {},
     "output_type": "execute_result"
    }
   ],
   "source": [
    "# Print all customer names (Points : 5)\n",
    "#Code goes here\n",
    "\n",
    "customer['name']"
   ]
  },
  {
   "cell_type": "code",
   "execution_count": 57,
   "metadata": {
    "id": "P2SeErUGgQ-D"
   },
   "outputs": [
    {
     "data": {
      "text/plain": [
       "'Dio'"
      ]
     },
     "execution_count": 57,
     "metadata": {},
     "output_type": "execute_result"
    }
   ],
   "source": [
    "# Print the first customer name (Points : 5)\n",
    "#Code goes here\n",
    "\n",
    "(customer['name'])[0]"
   ]
  },
  {
   "cell_type": "code",
   "execution_count": 58,
   "metadata": {
    "id": "c3PlmHxueiPy"
   },
   "outputs": [
    {
     "data": {
      "text/plain": [
       "[20, 19, 24, 39]"
      ]
     },
     "execution_count": 58,
     "metadata": {},
     "output_type": "execute_result"
    }
   ],
   "source": [
    "# Drop \"age\" key from the dictionary (Points : 5)\n",
    "#Code goes here\n",
    "\n",
    "customer['age']"
   ]
  },
  {
   "cell_type": "code",
   "execution_count": 44,
   "metadata": {
    "id": "FgXDh9mIea9x"
   },
   "outputs": [
    {
     "name": "stdout",
     "output_type": "stream",
     "text": [
      "New gender list value: ['Male', 'Female', 'Female', 'Male']\n",
      "New dictionary:\n"
     ]
    },
    {
     "data": {
      "text/plain": [
       "{'name': ['Dio', 'Eka', 'Wayu', 'Riki'],\n",
       " 'age': [20, 19, 24, 39],\n",
       " 'membership': ['Platinum', 'Gold', 'Silver', 'Silver'],\n",
       " 'new_gender': ['Male', 'Female', 'Female', 'Male']}"
      ]
     },
     "execution_count": 44,
     "metadata": {},
     "output_type": "execute_result"
    }
   ],
   "source": [
    "# Replace customer gender list value (Points : 20)\n",
    "# gender 1 => Male\n",
    "# gender 0 => Female \n",
    "\n",
    "#Code goes here\n",
    "new_gender=[]\n",
    "for gender in customer['gender']:\n",
    "    if gender == 1:\n",
    "        new_gender.append('Male')\n",
    "    else:\n",
    "        new_gender.append('Female')\n",
    "customer['new_gender']=new_gender\n",
    "\n",
    "del customer['gender']\n",
    "print('New gender list value:',new_gender)\n",
    "\n",
    "print('New dictionary:')\n",
    "customer"
   ]
  }
 ],
 "metadata": {
  "colab": {
   "collapsed_sections": [],
   "name": "Topic 4 - Assignment ipynb",
   "provenance": []
  },
  "kernelspec": {
   "display_name": "Python 3",
   "language": "python",
   "name": "python3"
  },
  "language_info": {
   "codemirror_mode": {
    "name": "ipython",
    "version": 3
   },
   "file_extension": ".py",
   "mimetype": "text/x-python",
   "name": "python",
   "nbconvert_exporter": "python",
   "pygments_lexer": "ipython3",
   "version": "3.7.6"
  }
 },
 "nbformat": 4,
 "nbformat_minor": 4
}
